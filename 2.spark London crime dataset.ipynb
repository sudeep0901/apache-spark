{
 "cells": [
  {
   "cell_type": "code",
   "execution_count": 1,
   "metadata": {},
   "outputs": [],
   "source": [
    "from  pyspark.sql import SparkSession"
   ]
  },
  {
   "cell_type": "code",
   "execution_count": 2,
   "metadata": {},
   "outputs": [],
   "source": [
    "spark = SparkSession.builder.appName(\"Analysing London crime data\").getOrCreate()"
   ]
  },
  {
   "cell_type": "code",
   "execution_count": 28,
   "metadata": {},
   "outputs": [
    {
     "data": {
      "text/html": [
       "\n",
       "            <div>\n",
       "                <p><b>SparkSession - hive</b></p>\n",
       "                \n",
       "        <div>\n",
       "            <p><b>SparkContext</b></p>\n",
       "\n",
       "            <p><a href=\"http://sudeep:4040\">Spark UI</a></p>\n",
       "\n",
       "            <dl>\n",
       "              <dt>Version</dt>\n",
       "                <dd><code>v2.4.3</code></dd>\n",
       "              <dt>Master</dt>\n",
       "                <dd><code>local[*]</code></dd>\n",
       "              <dt>AppName</dt>\n",
       "                <dd><code>PySparkShell</code></dd>\n",
       "            </dl>\n",
       "        </div>\n",
       "        \n",
       "            </div>\n",
       "        "
      ],
      "text/plain": [
       "<pyspark.sql.session.SparkSession at 0x7f69894f5470>"
      ]
     },
     "execution_count": 28,
     "metadata": {},
     "output_type": "execute_result"
    }
   ],
   "source": [
    "spark"
   ]
  },
  {
   "cell_type": "code",
   "execution_count": 4,
   "metadata": {},
   "outputs": [],
   "source": [
    "data = spark.read.format(\"csv\").option(\"header\", \"true\").load(\"/home/sudeep/sources/github/apache spark/spark getting started/02/demos/datasets/london_crime_by_lsoa.csv\")\n"
   ]
  },
  {
   "cell_type": "code",
   "execution_count": 6,
   "metadata": {},
   "outputs": [
    {
     "data": {
      "text/plain": [
       "Row(lsoa_code='E01001116', borough='Croydon', major_category='Burglary', minor_category='Burglary in Other Buildings', value='0', year='2016', month='11')"
      ]
     },
     "execution_count": 6,
     "metadata": {},
     "output_type": "execute_result"
    }
   ],
   "source": [
    "data.head()"
   ]
  },
  {
   "cell_type": "code",
   "execution_count": 7,
   "metadata": {},
   "outputs": [
    {
     "name": "stdout",
     "output_type": "stream",
     "text": [
      "root\n",
      " |-- lsoa_code: string (nullable = true)\n",
      " |-- borough: string (nullable = true)\n",
      " |-- major_category: string (nullable = true)\n",
      " |-- minor_category: string (nullable = true)\n",
      " |-- value: string (nullable = true)\n",
      " |-- year: string (nullable = true)\n",
      " |-- month: string (nullable = true)\n",
      "\n"
     ]
    }
   ],
   "source": [
    "data.printSchema()"
   ]
  },
  {
   "cell_type": "code",
   "execution_count": 8,
   "metadata": {},
   "outputs": [
    {
     "data": {
      "text/plain": [
       "13490604"
      ]
     },
     "execution_count": 8,
     "metadata": {},
     "output_type": "execute_result"
    }
   ],
   "source": [
    "data.count()"
   ]
  },
  {
   "cell_type": "code",
   "execution_count": 9,
   "metadata": {},
   "outputs": [
    {
     "name": "stdout",
     "output_type": "stream",
     "text": [
      "+---------+----------+--------------------+--------------------+-----+----+-----+\n",
      "|lsoa_code|   borough|      major_category|      minor_category|value|year|month|\n",
      "+---------+----------+--------------------+--------------------+-----+----+-----+\n",
      "|E01001116|   Croydon|            Burglary|Burglary in Other...|    0|2016|   11|\n",
      "|E01001646| Greenwich|Violence Against ...|      Other violence|    0|2016|   11|\n",
      "|E01000677|   Bromley|Violence Against ...|      Other violence|    0|2015|    5|\n",
      "|E01003774| Redbridge|            Burglary|Burglary in Other...|    0|2016|    3|\n",
      "|E01004563|Wandsworth|             Robbery|   Personal Property|    0|2008|    6|\n",
      "+---------+----------+--------------------+--------------------+-----+----+-----+\n",
      "\n"
     ]
    }
   ],
   "source": [
    "data.limit(5).show()"
   ]
  },
  {
   "cell_type": "code",
   "execution_count": 10,
   "metadata": {},
   "outputs": [
    {
     "data": {
      "text/plain": [
       "DataFrame[lsoa_code: string, borough: string, major_category: string, minor_category: string, value: string, year: string, month: string]"
      ]
     },
     "execution_count": 10,
     "metadata": {},
     "output_type": "execute_result"
    }
   ],
   "source": [
    "data.dropna()"
   ]
  },
  {
   "cell_type": "code",
   "execution_count": 11,
   "metadata": {},
   "outputs": [
    {
     "data": {
      "text/plain": [
       "13490604"
      ]
     },
     "execution_count": 11,
     "metadata": {},
     "output_type": "execute_result"
    }
   ],
   "source": [
    "data.count()"
   ]
  },
  {
   "cell_type": "code",
   "execution_count": 12,
   "metadata": {},
   "outputs": [
    {
     "data": {
      "text/plain": [
       "DataFrame[borough: string, major_category: string, minor_category: string, value: string, year: string, month: string]"
      ]
     },
     "execution_count": 12,
     "metadata": {},
     "output_type": "execute_result"
    }
   ],
   "source": [
    "data.drop(\"lsoa_code\")"
   ]
  },
  {
   "cell_type": "code",
   "execution_count": 13,
   "metadata": {},
   "outputs": [],
   "source": [
    "total_boroughs = data.select(\"borough\").distinct()"
   ]
  },
  {
   "cell_type": "code",
   "execution_count": 15,
   "metadata": {},
   "outputs": [
    {
     "name": "stdout",
     "output_type": "stream",
     "text": [
      "+--------------------+\n",
      "|             borough|\n",
      "+--------------------+\n",
      "|             Croydon|\n",
      "|          Wandsworth|\n",
      "|              Bexley|\n",
      "|             Lambeth|\n",
      "|Barking and Dagenham|\n",
      "|              Camden|\n",
      "|           Greenwich|\n",
      "|              Newham|\n",
      "|       Tower Hamlets|\n",
      "|            Hounslow|\n",
      "|              Barnet|\n",
      "|              Harrow|\n",
      "|Kensington and Ch...|\n",
      "|           Islington|\n",
      "|               Brent|\n",
      "|            Haringey|\n",
      "|             Bromley|\n",
      "|              Merton|\n",
      "|         Westminster|\n",
      "|             Hackney|\n",
      "+--------------------+\n",
      "only showing top 20 rows\n",
      "\n"
     ]
    }
   ],
   "source": [
    "total_boroughs.show()"
   ]
  },
  {
   "cell_type": "code",
   "execution_count": 16,
   "metadata": {},
   "outputs": [],
   "source": [
    "hackney_data = data.filter(data['borough'] == 'Hackney')"
   ]
  },
  {
   "cell_type": "code",
   "execution_count": 17,
   "metadata": {},
   "outputs": [
    {
     "name": "stdout",
     "output_type": "stream",
     "text": [
      "+---------+-------+--------------------+--------------------+-----+----+-----+\n",
      "|lsoa_code|borough|      major_category|      minor_category|value|year|month|\n",
      "+---------+-------+--------------------+--------------------+-----+----+-----+\n",
      "|E01001786|Hackney|     Criminal Damage|Criminal Damage T...|    0|2011|    6|\n",
      "|E01001794|Hackney|Violence Against ...|          Harassment|    1|2013|    2|\n",
      "|E01001787|Hackney|     Criminal Damage|Other Criminal Da...|    0|2011|    7|\n",
      "|E01001738|Hackney|Violence Against ...|        Wounding/GBH|    0|2013|   12|\n",
      "|E01001807|Hackney|  Theft and Handling|  Other Theft Person|    0|2016|    8|\n",
      "|E01001733|Hackney|            Burglary|Burglary in a Dwe...|    2|2008|    5|\n",
      "|E01001806|Hackney|             Robbery|   Business Property|    0|2016|    7|\n",
      "|E01001734|Hackney|  Theft and Handling|Theft/Taking of P...|    0|2009|   12|\n",
      "|E01001750|Hackney|               Drugs|    Drug Trafficking|    0|2014|    4|\n",
      "|E01001828|Hackney|  Theft and Handling|Handling Stolen G...|    0|2014|    6|\n",
      "|E01001785|Hackney|            Burglary|Burglary in Other...|    0|2008|   12|\n",
      "|E01033708|Hackney|Violence Against ...| Assault with Injury|    0|2010|    1|\n",
      "|E01001791|Hackney|  Theft and Handling|  Other Theft Person|    0|2008|    8|\n",
      "|E01001775|Hackney|Violence Against ...| Assault with Injury|    2|2015|    5|\n",
      "|E01001830|Hackney|  Theft and Handling|Theft/Taking Of M...|    0|2009|   12|\n",
      "|E01001839|Hackney|Violence Against ...|    Offensive Weapon|    0|2015|    9|\n",
      "|E01001786|Hackney|Violence Against ...|          Harassment|    2|2008|   10|\n",
      "|E01001846|Hackney|Violence Against ...|          Harassment|    0|2015|    3|\n",
      "|E01001746|Hackney|  Theft and Handling|  Other Theft Person|    1|2009|    5|\n",
      "|E01001776|Hackney|Other Notifiable ...|    Other Notifiable|    0|2008|    9|\n",
      "+---------+-------+--------------------+--------------------+-----+----+-----+\n",
      "only showing top 20 rows\n",
      "\n"
     ]
    }
   ],
   "source": [
    "hackney_data.show()"
   ]
  },
  {
   "cell_type": "code",
   "execution_count": 18,
   "metadata": {},
   "outputs": [],
   "source": [
    "data_2105_16 =  data.filter(data['year'].isin(['2015', '2016']))"
   ]
  },
  {
   "cell_type": "code",
   "execution_count": 19,
   "metadata": {},
   "outputs": [
    {
     "name": "stdout",
     "output_type": "stream",
     "text": [
      "+---------+--------------------+--------------------+--------------------+-----+----+-----+\n",
      "|lsoa_code|             borough|      major_category|      minor_category|value|year|month|\n",
      "+---------+--------------------+--------------------+--------------------+-----+----+-----+\n",
      "|E01001116|             Croydon|            Burglary|Burglary in Other...|    0|2016|   11|\n",
      "|E01001646|           Greenwich|Violence Against ...|      Other violence|    0|2016|   11|\n",
      "|E01000677|             Bromley|Violence Against ...|      Other violence|    0|2015|    5|\n",
      "|E01003774|           Redbridge|            Burglary|Burglary in Other...|    0|2016|    3|\n",
      "|E01004177|              Sutton|  Theft and Handling|Theft/Taking of P...|    1|2016|    8|\n",
      "|E01003076|             Lambeth|Violence Against ...|      Other violence|    0|2015|    4|\n",
      "|E01002398|          Hillingdon|  Theft and Handling|Theft/Taking Of M...|    0|2016|    2|\n",
      "|E01002945|Kingston upon Thames|  Theft and Handling|    Theft From Shops|    0|2016|   11|\n",
      "|E01001972|            Haringey|Violence Against ...|        Wounding/GBH|    0|2015|   12|\n",
      "|E01003325|            Lewisham|Violence Against ...|      Common Assault|    0|2016|    2|\n",
      "|E01002634|            Hounslow|     Criminal Damage|Criminal Damage T...|    0|2015|    2|\n",
      "|E01000733|             Bromley|     Criminal Damage|Criminal Damage T...|    1|2016|    4|\n",
      "|E01002006|            Haringey|     Criminal Damage|Criminal Damage T...|    0|2016|   12|\n",
      "|E01003947|           Southwark|               Drugs| Possession Of Drugs|    0|2015|    3|\n",
      "|E01002360|            Havering|    Fraud or Forgery|  Counted per Victim|    0|2015|   11|\n",
      "|E01004436|      Waltham Forest|Other Notifiable ...|      Going Equipped|    0|2015|    2|\n",
      "|E01001206|              Ealing|             Robbery|   Personal Property|    0|2015|    7|\n",
      "|E01000606|               Brent|  Theft and Handling|Motor Vehicle Int...|    0|2015|    9|\n",
      "|E01033083|            Hounslow|Violence Against ...|        Wounding/GBH|    2|2015|    8|\n",
      "|E01003989|           Southwark|  Theft and Handling|    Theft From Shops|    4|2016|    8|\n",
      "+---------+--------------------+--------------------+--------------------+-----+----+-----+\n",
      "only showing top 20 rows\n",
      "\n"
     ]
    }
   ],
   "source": [
    "data_2105_16.show()"
   ]
  },
  {
   "cell_type": "code",
   "execution_count": 20,
   "metadata": {},
   "outputs": [
    {
     "name": "stdout",
     "output_type": "stream",
     "text": [
      "+---------+--------------------+--------------------+--------------------+-----+----+-----+\n",
      "|lsoa_code|             borough|      major_category|      minor_category|value|year|month|\n",
      "+---------+--------------------+--------------------+--------------------+-----+----+-----+\n",
      "|E01001646|           Greenwich|Violence Against ...|      Other violence|    0|2016|   11|\n",
      "|E01003076|             Lambeth|Violence Against ...|      Other violence|    0|2015|    4|\n",
      "|E01001972|            Haringey|Violence Against ...|        Wounding/GBH|    0|2015|   12|\n",
      "|E01003989|           Southwark|  Theft and Handling|    Theft From Shops|    4|2016|    8|\n",
      "|E01004346|      Waltham Forest|  Theft and Handling|Motor Vehicle Int...|    0|2016|    3|\n",
      "|E01003484|              Newham|  Theft and Handling|Theft/Taking of P...|    0|2016|    3|\n",
      "|E01001210|              Ealing|  Theft and Handling|Theft/Taking Of M...|    0|2016|    1|\n",
      "|E01032774|       Tower Hamlets|  Theft and Handling|Handling Stolen G...|    0|2015|   10|\n",
      "|E01002960|Kingston upon Thames|Other Notifiable ...|      Going Equipped|    0|2015|   12|\n",
      "|E01001486|             Enfield|  Theft and Handling|Theft From Motor ...|    2|2015|   10|\n",
      "|E01002426|          Hillingdon|Violence Against ...|        Wounding/GBH|    0|2016|    9|\n",
      "|E01000656|             Bromley|             Robbery|   Personal Property|    0|2015|    3|\n",
      "|E01001124|             Croydon|Other Notifiable ...|    Other Notifiable|    0|2016|    2|\n",
      "|E01002019|            Haringey|Violence Against ...|        Wounding/GBH|    0|2016|   12|\n",
      "|E01004351|      Waltham Forest|            Burglary|Burglary in a Dwe...|    0|2015|    3|\n",
      "|E01002022|            Haringey|             Robbery|   Business Property|    0|2015|    8|\n",
      "|E01003955|           Southwark|  Theft and Handling|Theft From Motor ...|    0|2015|   11|\n",
      "|E01001095|             Croydon|            Burglary|Burglary in a Dwe...|    0|2016|    9|\n",
      "|E01000389|              Bexley|Other Notifiable ...|    Other Notifiable|    1|2016|    5|\n",
      "|E01002793|           Islington|Violence Against ...|    Offensive Weapon|    0|2016|    5|\n",
      "+---------+--------------------+--------------------+--------------------+-----+----+-----+\n",
      "only showing top 20 rows\n",
      "\n"
     ]
    }
   ],
   "source": [
    "data_2105_16.sample(0.1).show()"
   ]
  },
  {
   "cell_type": "code",
   "execution_count": 21,
   "metadata": {},
   "outputs": [],
   "source": [
    "data_greater_2014 = data.filter(data['year'] >= 2014)"
   ]
  },
  {
   "cell_type": "code",
   "execution_count": 22,
   "metadata": {},
   "outputs": [
    {
     "name": "stdout",
     "output_type": "stream",
     "text": [
      "+---------+--------------------+--------------------+--------------------+-----+----+-----+\n",
      "|lsoa_code|             borough|      major_category|      minor_category|value|year|month|\n",
      "+---------+--------------------+--------------------+--------------------+-----+----+-----+\n",
      "|E01001116|             Croydon|            Burglary|Burglary in Other...|    0|2016|   11|\n",
      "|E01001646|           Greenwich|Violence Against ...|      Other violence|    0|2016|   11|\n",
      "|E01000677|             Bromley|Violence Against ...|      Other violence|    0|2015|    5|\n",
      "|E01003774|           Redbridge|            Burglary|Burglary in Other...|    0|2016|    3|\n",
      "|E01004177|              Sutton|  Theft and Handling|Theft/Taking of P...|    1|2016|    8|\n",
      "|E01003076|             Lambeth|Violence Against ...|      Other violence|    0|2015|    4|\n",
      "|E01003852|Richmond upon Thames|             Robbery|   Personal Property|    0|2014|    1|\n",
      "|E01002398|          Hillingdon|  Theft and Handling|Theft/Taking Of M...|    0|2016|    2|\n",
      "|E01002945|Kingston upon Thames|  Theft and Handling|    Theft From Shops|    0|2016|   11|\n",
      "|E01001972|            Haringey|Violence Against ...|        Wounding/GBH|    0|2015|   12|\n",
      "|E01003325|            Lewisham|Violence Against ...|      Common Assault|    0|2016|    2|\n",
      "|E01002634|            Hounslow|     Criminal Damage|Criminal Damage T...|    0|2015|    2|\n",
      "|E01000733|             Bromley|     Criminal Damage|Criminal Damage T...|    1|2016|    4|\n",
      "|E01002006|            Haringey|     Criminal Damage|Criminal Damage T...|    0|2016|   12|\n",
      "|E01003947|           Southwark|               Drugs| Possession Of Drugs|    0|2015|    3|\n",
      "|E01002360|            Havering|    Fraud or Forgery|  Counted per Victim|    0|2015|   11|\n",
      "|E01001193|             Croydon|  Theft and Handling|         Other Theft|    1|2014|    5|\n",
      "|E01000280|              Barnet|  Theft and Handling|Theft/Taking Of M...|    0|2014|    3|\n",
      "|E01004436|      Waltham Forest|Other Notifiable ...|      Going Equipped|    0|2015|    2|\n",
      "|E01001206|              Ealing|             Robbery|   Personal Property|    0|2015|    7|\n",
      "+---------+--------------------+--------------------+--------------------+-----+----+-----+\n",
      "only showing top 20 rows\n",
      "\n"
     ]
    }
   ],
   "source": [
    "data_greater_2014.show()"
   ]
  },
  {
   "cell_type": "markdown",
   "metadata": {},
   "source": [
    "# Grouping Aggregating"
   ]
  },
  {
   "cell_type": "code",
   "execution_count": 24,
   "metadata": {},
   "outputs": [],
   "source": [
    "borough_Crime_count =  data.groupBy('borough').count()"
   ]
  },
  {
   "cell_type": "code",
   "execution_count": 25,
   "metadata": {},
   "outputs": [
    {
     "name": "stdout",
     "output_type": "stream",
     "text": [
      "+--------------------+------+\n",
      "|             borough| count|\n",
      "+--------------------+------+\n",
      "|             Croydon|602100|\n",
      "|          Wandsworth|498636|\n",
      "|              Bexley|385668|\n",
      "|             Lambeth|519048|\n",
      "|Barking and Dagenham|311040|\n",
      "|              Camden|378432|\n",
      "|           Greenwich|421200|\n",
      "|              Newham|471420|\n",
      "|       Tower Hamlets|412128|\n",
      "|            Hounslow|395928|\n",
      "|              Barnet|572832|\n",
      "|              Harrow|365688|\n",
      "|Kensington and Ch...|296784|\n",
      "|           Islington|359208|\n",
      "|               Brent|490644|\n",
      "|            Haringey|413856|\n",
      "|             Bromley|523908|\n",
      "|              Merton|339876|\n",
      "|         Westminster|366660|\n",
      "|             Hackney|417744|\n",
      "+--------------------+------+\n",
      "only showing top 20 rows\n",
      "\n"
     ]
    }
   ],
   "source": [
    "borough_Crime_count.show()"
   ]
  },
  {
   "cell_type": "code",
   "execution_count": 33,
   "metadata": {},
   "outputs": [],
   "source": [
    "borough_covictions_sum = data.groupBy('borough').agg({'value':'sum'})"
   ]
  },
  {
   "cell_type": "code",
   "execution_count": 34,
   "metadata": {},
   "outputs": [
    {
     "name": "stdout",
     "output_type": "stream",
     "text": [
      "+--------------------+----------+\n",
      "|             borough|sum(value)|\n",
      "+--------------------+----------+\n",
      "|             Croydon|  260294.0|\n",
      "|          Wandsworth|  204741.0|\n",
      "|              Bexley|  114136.0|\n",
      "|             Lambeth|  292178.0|\n",
      "|Barking and Dagenham|  149447.0|\n",
      "|              Camden|  275147.0|\n",
      "|           Greenwich|  181568.0|\n",
      "|              Newham|  262024.0|\n",
      "|       Tower Hamlets|  228613.0|\n",
      "|            Hounslow|  186772.0|\n",
      "|              Barnet|  212191.0|\n",
      "|              Harrow|  116848.0|\n",
      "|Kensington and Ch...|  171981.0|\n",
      "|           Islington|  230286.0|\n",
      "|               Brent|  227551.0|\n",
      "|            Haringey|  213272.0|\n",
      "|             Bromley|  184349.0|\n",
      "|              Merton|  115654.0|\n",
      "|         Westminster|  455028.0|\n",
      "|             Hackney|  217119.0|\n",
      "+--------------------+----------+\n",
      "only showing top 20 rows\n",
      "\n"
     ]
    }
   ],
   "source": [
    "borough_covictions_sum.show()"
   ]
  },
  {
   "cell_type": "code",
   "execution_count": 39,
   "metadata": {},
   "outputs": [],
   "source": [
    "borough_covictions_sum_convictions = data.groupBy('borough').agg({'value':'sum'}).withColumnRenamed(\"sum(value)\",\"convictions\")"
   ]
  },
  {
   "cell_type": "code",
   "execution_count": 40,
   "metadata": {},
   "outputs": [
    {
     "name": "stdout",
     "output_type": "stream",
     "text": [
      "+--------------------+-----------+\n",
      "|             borough|convictions|\n",
      "+--------------------+-----------+\n",
      "|             Croydon|   260294.0|\n",
      "|          Wandsworth|   204741.0|\n",
      "|              Bexley|   114136.0|\n",
      "|             Lambeth|   292178.0|\n",
      "|Barking and Dagenham|   149447.0|\n",
      "|              Camden|   275147.0|\n",
      "|           Greenwich|   181568.0|\n",
      "|              Newham|   262024.0|\n",
      "|       Tower Hamlets|   228613.0|\n",
      "|            Hounslow|   186772.0|\n",
      "|              Barnet|   212191.0|\n",
      "|              Harrow|   116848.0|\n",
      "|Kensington and Ch...|   171981.0|\n",
      "|           Islington|   230286.0|\n",
      "|               Brent|   227551.0|\n",
      "|            Haringey|   213272.0|\n",
      "|             Bromley|   184349.0|\n",
      "|              Merton|   115654.0|\n",
      "|         Westminster|   455028.0|\n",
      "|             Hackney|   217119.0|\n",
      "+--------------------+-----------+\n",
      "only showing top 20 rows\n",
      "\n"
     ]
    }
   ],
   "source": [
    "borough_covictions_sum_convictions.show()"
   ]
  },
  {
   "cell_type": "code",
   "execution_count": null,
   "metadata": {},
   "outputs": [],
   "source": [
    "borough_covictions_sum_convictions"
   ]
  },
  {
   "cell_type": "code",
   "execution_count": 41,
   "metadata": {},
   "outputs": [],
   "source": [
    "total_borough_convictions = borough_covictions_sum_convictions.agg({'convictions':'sum'})"
   ]
  },
  {
   "cell_type": "code",
   "execution_count": 50,
   "metadata": {},
   "outputs": [
    {
     "name": "stdout",
     "output_type": "stream",
     "text": [
      "+----------------+\n",
      "|sum(convictions)|\n",
      "+----------------+\n",
      "|       6447758.0|\n",
      "+----------------+\n",
      "\n"
     ]
    }
   ],
   "source": [
    "total_borough_convictions.show()\n",
    "total_convictions = total_borough_convictions.collect()[0][0]"
   ]
  },
  {
   "cell_type": "code",
   "execution_count": 43,
   "metadata": {},
   "outputs": [],
   "source": [
    "import pyspark.sql.functions as func"
   ]
  },
  {
   "cell_type": "code",
   "execution_count": 52,
   "metadata": {},
   "outputs": [],
   "source": [
    "borough_percentage_contribution = borough_covictions_sum_convictions.withColumn(\"% contribution\", func.round(borough_covictions_sum_convictions.convictions /total_convictions * 100 , 2))"
   ]
  },
  {
   "cell_type": "code",
   "execution_count": 54,
   "metadata": {},
   "outputs": [
    {
     "name": "stdout",
     "output_type": "stream",
     "text": [
      "+--------------------+-----------+--------------+\n",
      "|             borough|convictions|% contribution|\n",
      "+--------------------+-----------+--------------+\n",
      "|             Croydon|   260294.0|          4.04|\n",
      "|          Wandsworth|   204741.0|          3.18|\n",
      "|              Bexley|   114136.0|          1.77|\n",
      "|             Lambeth|   292178.0|          4.53|\n",
      "|Barking and Dagenham|   149447.0|          2.32|\n",
      "|              Camden|   275147.0|          4.27|\n",
      "|           Greenwich|   181568.0|          2.82|\n",
      "|              Newham|   262024.0|          4.06|\n",
      "|       Tower Hamlets|   228613.0|          3.55|\n",
      "|            Hounslow|   186772.0|           2.9|\n",
      "|              Barnet|   212191.0|          3.29|\n",
      "|              Harrow|   116848.0|          1.81|\n",
      "|Kensington and Ch...|   171981.0|          2.67|\n",
      "|           Islington|   230286.0|          3.57|\n",
      "|               Brent|   227551.0|          3.53|\n",
      "|            Haringey|   213272.0|          3.31|\n",
      "|             Bromley|   184349.0|          2.86|\n",
      "|              Merton|   115654.0|          1.79|\n",
      "|         Westminster|   455028.0|          7.06|\n",
      "|             Hackney|   217119.0|          3.37|\n",
      "+--------------------+-----------+--------------+\n",
      "only showing top 20 rows\n",
      "\n"
     ]
    }
   ],
   "source": [
    "borough_percentage_contribution.show()"
   ]
  },
  {
   "cell_type": "code",
   "execution_count": 55,
   "metadata": {},
   "outputs": [
    {
     "name": "stdout",
     "output_type": "stream",
     "text": [
      "root\n",
      " |-- borough: string (nullable = true)\n",
      " |-- convictions: double (nullable = true)\n",
      " |-- % contribution: double (nullable = true)\n",
      "\n"
     ]
    }
   ],
   "source": [
    "borough_percentage_contribution.printSchema()"
   ]
  },
  {
   "cell_type": "code",
   "execution_count": 56,
   "metadata": {},
   "outputs": [
    {
     "name": "stdout",
     "output_type": "stream",
     "text": [
      "+-------------+-----------+--------------+\n",
      "|      borough|convictions|% contribution|\n",
      "+-------------+-----------+--------------+\n",
      "|  Westminster|   455028.0|          7.06|\n",
      "|      Lambeth|   292178.0|          4.53|\n",
      "|    Southwark|   278809.0|          4.32|\n",
      "|       Camden|   275147.0|          4.27|\n",
      "|       Newham|   262024.0|          4.06|\n",
      "|      Croydon|   260294.0|          4.04|\n",
      "|       Ealing|   251562.0|           3.9|\n",
      "|    Islington|   230286.0|          3.57|\n",
      "|Tower Hamlets|   228613.0|          3.55|\n",
      "|        Brent|   227551.0|          3.53|\n",
      "+-------------+-----------+--------------+\n",
      "only showing top 10 rows\n",
      "\n"
     ]
    }
   ],
   "source": [
    "borough_percentage_contribution.orderBy(borough_percentage_contribution[2].desc()).show(10)"
   ]
  },
  {
   "cell_type": "code",
   "execution_count": 58,
   "metadata": {},
   "outputs": [],
   "source": [
    "conviction_monthly = data.filter(data['year'] == 2014).groupBy('month').agg({'value':'sum'}).withColumnRenamed(\"sum(value)\", \"convictions\")"
   ]
  },
  {
   "cell_type": "code",
   "execution_count": 59,
   "metadata": {},
   "outputs": [
    {
     "name": "stdout",
     "output_type": "stream",
     "text": [
      "+-----+-----------+\n",
      "|month|convictions|\n",
      "+-----+-----------+\n",
      "|    7|    58564.0|\n",
      "|   11|    59704.0|\n",
      "|    3|    57669.0|\n",
      "|    8|    55641.0|\n",
      "|    5|    56327.0|\n",
      "|    6|    57039.0|\n",
      "|    9|    56933.0|\n",
      "|    1|    55515.0|\n",
      "|   10|    60537.0|\n",
      "|    4|    53467.0|\n",
      "|   12|    57565.0|\n",
      "|    2|    51222.0|\n",
      "+-----+-----------+\n",
      "\n"
     ]
    }
   ],
   "source": [
    "conviction_monthly.show()"
   ]
  },
  {
   "cell_type": "code",
   "execution_count": 60,
   "metadata": {},
   "outputs": [],
   "source": [
    "totol_conviction_monthly = conviction_monthly.agg({'convictions':'sum'}).collect()[0][0]"
   ]
  },
  {
   "cell_type": "code",
   "execution_count": 62,
   "metadata": {},
   "outputs": [
    {
     "data": {
      "text/plain": [
       "680183.0"
      ]
     },
     "execution_count": 62,
     "metadata": {},
     "output_type": "execute_result"
    }
   ],
   "source": [
    "totol_conviction_monthly"
   ]
  },
  {
   "cell_type": "code",
   "execution_count": 63,
   "metadata": {},
   "outputs": [],
   "source": [
    "totol_conviction_monthly = conviction_monthly.withColumn(\"percent\", func.round(conviction_monthly.convictions/totol_conviction_monthly * 100 * 2))"
   ]
  },
  {
   "cell_type": "code",
   "execution_count": 64,
   "metadata": {},
   "outputs": [
    {
     "data": {
      "text/plain": [
       "['month', 'convictions', 'percent']"
      ]
     },
     "execution_count": 64,
     "metadata": {},
     "output_type": "execute_result"
    }
   ],
   "source": [
    "totol_conviction_monthly.columns"
   ]
  },
  {
   "cell_type": "code",
   "execution_count": 65,
   "metadata": {},
   "outputs": [
    {
     "name": "stdout",
     "output_type": "stream",
     "text": [
      "+-----+-----------+-------+\n",
      "|month|convictions|percent|\n",
      "+-----+-----------+-------+\n",
      "|    7|    58564.0|   17.0|\n",
      "|   11|    59704.0|   18.0|\n",
      "|    3|    57669.0|   17.0|\n",
      "|    8|    55641.0|   16.0|\n",
      "|    5|    56327.0|   17.0|\n",
      "|    6|    57039.0|   17.0|\n",
      "|    9|    56933.0|   17.0|\n",
      "|    1|    55515.0|   16.0|\n",
      "|   10|    60537.0|   18.0|\n",
      "|    4|    53467.0|   16.0|\n",
      "|   12|    57565.0|   17.0|\n",
      "|    2|    51222.0|   15.0|\n",
      "+-----+-----------+-------+\n",
      "\n"
     ]
    }
   ],
   "source": [
    "totol_conviction_monthly.show()"
   ]
  },
  {
   "cell_type": "code",
   "execution_count": 67,
   "metadata": {},
   "outputs": [
    {
     "name": "stdout",
     "output_type": "stream",
     "text": [
      "+-----+-----------+-------+\n",
      "|month|convictions|percent|\n",
      "+-----+-----------+-------+\n",
      "|   11|    59704.0|   18.0|\n",
      "|   10|    60537.0|   18.0|\n",
      "|    7|    58564.0|   17.0|\n",
      "|    6|    57039.0|   17.0|\n",
      "|    3|    57669.0|   17.0|\n",
      "|    9|    56933.0|   17.0|\n",
      "|    5|    56327.0|   17.0|\n",
      "|   12|    57565.0|   17.0|\n",
      "|    8|    55641.0|   16.0|\n",
      "|    1|    55515.0|   16.0|\n",
      "|    4|    53467.0|   16.0|\n",
      "|    2|    51222.0|   15.0|\n",
      "+-----+-----------+-------+\n",
      "\n"
     ]
    }
   ],
   "source": [
    "totol_conviction_monthly.orderBy(totol_conviction_monthly.percent.desc()).show()"
   ]
  },
  {
   "cell_type": "code",
   "execution_count": 77,
   "metadata": {},
   "outputs": [],
   "source": [
    "crime_category = data.groupBy('major_category').agg({'value':'sum'}).withColumnRenamed(\"sum(value)\",\"convictions\")"
   ]
  },
  {
   "cell_type": "code",
   "execution_count": 80,
   "metadata": {},
   "outputs": [
    {
     "name": "stdout",
     "output_type": "stream",
     "text": [
      "+--------------------+-----------+\n",
      "|      major_category|convictions|\n",
      "+--------------------+-----------+\n",
      "|  Theft and Handling|  2661861.0|\n",
      "|Violence Against ...|  1558081.0|\n",
      "|            Burglary|   754293.0|\n",
      "|     Criminal Damage|   630938.0|\n",
      "|               Drugs|   470765.0|\n",
      "|             Robbery|   258873.0|\n",
      "|Other Notifiable ...|   106349.0|\n",
      "|    Fraud or Forgery|     5325.0|\n",
      "|     Sexual Offences|     1273.0|\n",
      "+--------------------+-----------+\n",
      "\n"
     ]
    }
   ],
   "source": [
    "crime_category.orderBy(crime_category.convictions.desc()).show()"
   ]
  },
  {
   "cell_type": "code",
   "execution_count": 82,
   "metadata": {},
   "outputs": [],
   "source": [
    "year_df = data.select('year')"
   ]
  },
  {
   "cell_type": "code",
   "execution_count": 83,
   "metadata": {},
   "outputs": [
    {
     "name": "stdout",
     "output_type": "stream",
     "text": [
      "+---------+\n",
      "|min(year)|\n",
      "+---------+\n",
      "|     2008|\n",
      "+---------+\n",
      "\n"
     ]
    }
   ],
   "source": [
    "year_df.agg({'year':'min'}).show()"
   ]
  },
  {
   "cell_type": "code",
   "execution_count": 86,
   "metadata": {},
   "outputs": [
    {
     "name": "stdout",
     "output_type": "stream",
     "text": [
      "+---------+\n",
      "|max(year)|\n",
      "+---------+\n",
      "|     2016|\n",
      "+---------+\n",
      "\n"
     ]
    }
   ],
   "source": [
    "year_df.agg({'year':'max'}).show()"
   ]
  },
  {
   "cell_type": "code",
   "execution_count": 87,
   "metadata": {},
   "outputs": [
    {
     "name": "stdout",
     "output_type": "stream",
     "text": [
      "+-------+-----------------+\n",
      "|summary|             year|\n",
      "+-------+-----------------+\n",
      "|  count|         13490604|\n",
      "|   mean|           2012.0|\n",
      "| stddev|2.581988993167432|\n",
      "|    min|             2008|\n",
      "|    max|             2016|\n",
      "+-------+-----------------+\n",
      "\n"
     ]
    }
   ],
   "source": [
    "year_df.describe().show()"
   ]
  },
  {
   "cell_type": "code",
   "execution_count": 91,
   "metadata": {},
   "outputs": [
    {
     "name": "stdout",
     "output_type": "stream",
     "text": [
      "+----------------------+--------+-----+----------------+-------+\n",
      "|borough_major_category|Burglary|Drugs|Fraud or Forgery|Robbery|\n",
      "+----------------------+--------+-----+----------------+-------+\n",
      "|              Havering|   32400|32616|            5508|  27648|\n",
      "|                Merton|   26784|29160|            5724|  23652|\n",
      "|              Haringey|   31320|35424|           10368|  29484|\n",
      "|         Tower Hamlets|   31104|37368|            5400|  28512|\n",
      "|               Bromley|   42552|42336|            8532|  34668|\n",
      "|               Enfield|   39528|44064|            9720|  35532|\n",
      "|  Kingston upon Thames|   21168|22140|            3780|  15660|\n",
      "|           Westminster|   27648|32616|            8748|  25056|\n",
      "|  Richmond upon Thames|   24840|23004|            2808|  18468|\n",
      "|              Lewisham|   36504|43740|           11016|  34884|\n",
      "|                 Brent|   37368|46980|            9288|  34128|\n",
      "|  Barking and Dagenham|   23760|26244|            7236|  22248|\n",
      "|             Redbridge|   34776|36504|            8532|  32400|\n",
      "|             Islington|   26568|34128|            5184|  26244|\n",
      "|               Hackney|   31104|38772|            7560|  29160|\n",
      "|                Newham|   35424|41580|           10692|  34452|\n",
      "|        City of London|     540|  756|               0|    540|\n",
      "|                Sutton|   26136|26784|            3024|  21060|\n",
      "|             Southwark|   35856|45144|           11772|  35316|\n",
      "|                Harrow|   29592|31212|            4752|  23976|\n",
      "+----------------------+--------+-----+----------------+-------+\n",
      "only showing top 20 rows\n",
      "\n"
     ]
    }
   ],
   "source": [
    "data.crosstab('borough','major_category').select('borough_major_category', 'Burglary',\"Drugs\", \"Fraud or Forgery\", 'Robbery').show()"
   ]
  },
  {
   "cell_type": "code",
   "execution_count": 92,
   "metadata": {},
   "outputs": [],
   "source": [
    "get_ipython().magic('matplotlib inline')"
   ]
  },
  {
   "cell_type": "code",
   "execution_count": 93,
   "metadata": {},
   "outputs": [],
   "source": [
    "import matplotlib.pyplot as plt"
   ]
  },
  {
   "cell_type": "code",
   "execution_count": 94,
   "metadata": {},
   "outputs": [],
   "source": [
    "plt.style.use('ggplot')"
   ]
  },
  {
   "cell_type": "code",
   "execution_count": 95,
   "metadata": {},
   "outputs": [],
   "source": [
    "def describle(year):\n",
    "    yearly_details = data.filter(data.year == year).groupby('borough').agg({'value':'sum'}).withColumnRenamed(\"sum(value)\",\"convictions\")\n",
    "    borough_list = [x[0] for x in  yearly_details.toLocalIterator()]\n",
    "    convictions_list = [x[1] for x in yearly_details.toLocalIterator()]\n",
    "    \n",
    "    plt.figure(figsize=(33,10))\n",
    "    plt.bar(borough_list,convictions_list)\n",
    "    plt.title(\"Crime for the year: \" + year, fontsize=30 )\n",
    "    plt.xlabel(\"Borough\", fontsize=30)\n",
    "    plt.ylabel('Convictions', fontsize=30)\n",
    "    \n",
    "    plt.xticks(rotation=90, fontsize=30)\n",
    "    plt.yticks(fontsize=30)\n",
    "    plt.autoscale()\n",
    "    plt.show()\n",
    "    "
   ]
  },
  {
   "cell_type": "code",
   "execution_count": 97,
   "metadata": {},
   "outputs": [
    {
     "data": {
      "image/png": "[encoded data removed]",
      "text/plain": [
       "<Figure size 2376x720 with 1 Axes>"
      ]
     },
     "metadata": {},
     "output_type": "display_data"
    }
   ],
   "source": [
    "describle('2014')"
   ]
  },
  {
   "cell_type": "code",
   "execution_count": null,
   "metadata": {},
   "outputs": [],
   "source": []
  }
 ],
 "metadata": {
  "kernelspec": {
   "display_name": "Python 3",
   "language": "python",
   "name": "python3"
  },
  "language_info": {
   "codemirror_mode": {
    "name": "ipython",
    "version": 3
   },
   "file_extension": ".py",
   "mimetype": "text/x-python",
   "name": "python",
   "nbconvert_exporter": "python",
   "pygments_lexer": "ipython3",
   "version": "3.6.8"
  }
 },
 "nbformat": 4,
 "nbformat_minor": 2
}
